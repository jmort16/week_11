{
 "cells": [
  {
   "cell_type": "markdown",
   "id": "5516d462",
   "metadata": {},
   "source": [
    "#### Recursion is when a function calls itself.  The function call is inside the function's code.  So it causes the function to run recursively without a new function call each time."
   ]
  },
  {
   "cell_type": "code",
   "execution_count": null,
   "id": "07083fc1",
   "metadata": {},
   "outputs": [],
   "source": [
    "def doubler(n):\n",
    "    square = n**2\n",
    "    print(square)\n",
    "    n = n*2\n",
    "    print(n)\n",
    "    while n < square:\n",
    "        doubler(n)    \n",
    "    else:\n",
    "        return \n",
    "\n",
    "doubler (5)"
   ]
  },
  {
   "cell_type": "code",
   "execution_count": null,
   "id": "1b2a2a5f",
   "metadata": {},
   "outputs": [],
   "source": [
    "def numprod(x):\n",
    "    \"\"\"Returns product of the number by two\"\"\"\n",
    "    if x >= num**2:\n",
    "        print(x, \"is the square of\", num)\n",
    "    else:\n",
    "        y=x*2\n",
    "        print(y)\n",
    "        numprod(y)\n"
   ]
  }
 ],
 "metadata": {
  "kernelspec": {
   "display_name": "Python 3 (ipykernel)",
   "language": "python",
   "name": "python3"
  },
  "language_info": {
   "codemirror_mode": {
    "name": "ipython",
    "version": 3
   },
   "file_extension": ".py",
   "mimetype": "text/x-python",
   "name": "python",
   "nbconvert_exporter": "python",
   "pygments_lexer": "ipython3",
   "version": "3.9.7"
  }
 },
 "nbformat": 4,
 "nbformat_minor": 5
}
