{
 "cells": [
  {
   "cell_type": "markdown",
   "id": "e608ef3d",
   "metadata": {},
   "source": [
    "# Week 11 Group Activity"
   ]
  },
  {
   "cell_type": "markdown",
   "id": "0eb8caca",
   "metadata": {},
   "source": [
    "### 1. Explore Google Trends https://trends.google.com/ . Find a topic of interest to you with more than a year of trend data, and export it.\n"
   ]
  },
  {
   "cell_type": "code",
   "execution_count": null,
   "id": "043252da",
   "metadata": {},
   "outputs": [],
   "source": []
  },
  {
   "cell_type": "markdown",
   "id": "3d0ed244",
   "metadata": {},
   "source": [
    "#### a. Import the data into a pandas dataframe."
   ]
  },
  {
   "cell_type": "code",
   "execution_count": null,
   "id": "1503fb0f",
   "metadata": {},
   "outputs": [],
   "source": []
  },
  {
   "cell_type": "markdown",
   "id": "5b7245e8",
   "metadata": {},
   "source": [
    "#### b. Decide whether ARIMA or SARIMA makes more sense for the dataset."
   ]
  },
  {
   "cell_type": "code",
   "execution_count": null,
   "id": "f5549bfc",
   "metadata": {},
   "outputs": [],
   "source": []
  },
  {
   "cell_type": "markdown",
   "id": "b97c3a88",
   "metadata": {},
   "source": [
    "#### c. Run either an ARIMA or SARIMA on it."
   ]
  },
  {
   "cell_type": "code",
   "execution_count": null,
   "id": "08790560",
   "metadata": {},
   "outputs": [],
   "source": []
  },
  {
   "cell_type": "markdown",
   "id": "b6650498",
   "metadata": {},
   "source": [
    "#### d. Explain the results."
   ]
  },
  {
   "cell_type": "code",
   "execution_count": null,
   "id": "28aea150",
   "metadata": {},
   "outputs": [],
   "source": []
  },
  {
   "cell_type": "markdown",
   "id": "46602c1f",
   "metadata": {},
   "source": [
    "#### e. Discuss your findings with your group and explain what trend someone else chose and why they chose the model they did."
   ]
  },
  {
   "cell_type": "code",
   "execution_count": null,
   "id": "e9d4e019",
   "metadata": {},
   "outputs": [],
   "source": []
  },
  {
   "cell_type": "markdown",
   "id": "9cb5761b",
   "metadata": {},
   "source": [
    "### 2. What is a fourier transform? "
   ]
  },
  {
   "cell_type": "code",
   "execution_count": null,
   "id": "8c0e92bf",
   "metadata": {},
   "outputs": [],
   "source": []
  },
  {
   "cell_type": "markdown",
   "id": "2307e4ae",
   "metadata": {},
   "source": [
    "#### Perform one on y = np.cos(x/2), and both show (with code) and explain the key elements"
   ]
  },
  {
   "cell_type": "code",
   "execution_count": null,
   "id": "1e4e031e",
   "metadata": {},
   "outputs": [],
   "source": []
  }
 ],
 "metadata": {
  "kernelspec": {
   "display_name": "Python 3 (ipykernel)",
   "language": "python",
   "name": "python3"
  },
  "language_info": {
   "codemirror_mode": {
    "name": "ipython",
    "version": 3
   },
   "file_extension": ".py",
   "mimetype": "text/x-python",
   "name": "python",
   "nbconvert_exporter": "python",
   "pygments_lexer": "ipython3",
   "version": "3.9.7"
  }
 },
 "nbformat": 4,
 "nbformat_minor": 5
}
