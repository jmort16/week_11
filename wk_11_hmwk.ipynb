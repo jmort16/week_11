{
 "cells": [
  {
   "cell_type": "markdown",
   "id": "5ff98932",
   "metadata": {},
   "source": [
    "# Week 11 Homework"
   ]
  },
  {
   "cell_type": "markdown",
   "id": "3f435c8b",
   "metadata": {},
   "source": [
    "##### 1.\tWhat scale of measurement applies to timeseries data? \n"
   ]
  },
  {
   "cell_type": "code",
   "execution_count": null,
   "id": "6d1a69a8",
   "metadata": {},
   "outputs": [],
   "source": []
  },
  {
   "cell_type": "markdown",
   "id": "719d8d8b",
   "metadata": {},
   "source": [
    "##### Is timeseries data continuous or discrete? Why?"
   ]
  },
  {
   "cell_type": "code",
   "execution_count": null,
   "id": "8814b5ab",
   "metadata": {},
   "outputs": [],
   "source": []
  },
  {
   "cell_type": "markdown",
   "id": "ffb07e4c",
   "metadata": {},
   "source": [
    "##### 2.\tWhat does ARIMA stand for? Break down and explain each piece in the name.\n"
   ]
  },
  {
   "cell_type": "code",
   "execution_count": null,
   "id": "3465699c",
   "metadata": {},
   "outputs": [],
   "source": []
  },
  {
   "cell_type": "markdown",
   "id": "30d66301",
   "metadata": {},
   "source": [
    "##### 3.\tUsing the data in the temperatures/ folder. Write a function that efficiently converts every column to a different temperature scale.\n"
   ]
  },
  {
   "cell_type": "code",
   "execution_count": null,
   "id": "d88d1f1f",
   "metadata": {},
   "outputs": [],
   "source": []
  },
  {
   "cell_type": "markdown",
   "id": "8474f4a9",
   "metadata": {},
   "source": [
    "##### 4.\tWrite a function that efficiently fills in missing values in every column, excluding trailing NANs. That is: if there's temperature data on either side of a timestamp, it should interpolate through it. But if data stopped being collected, your function should leave nans at the end.\n"
   ]
  },
  {
   "cell_type": "code",
   "execution_count": null,
   "id": "9cacdd46",
   "metadata": {},
   "outputs": [],
   "source": []
  },
  {
   "cell_type": "markdown",
   "id": "60fb5591",
   "metadata": {},
   "source": [
    "##### 5.\tFind all cities A and B where city A is warmer than city B in the summer, but also colder than city B in the winter, on average.\n"
   ]
  },
  {
   "cell_type": "code",
   "execution_count": null,
   "id": "e56c155a",
   "metadata": {},
   "outputs": [],
   "source": []
  },
  {
   "cell_type": "markdown",
   "id": "a8eed4dd",
   "metadata": {},
   "source": [
    "##### 6.\tFor two of the cities you found in question 5 (there are many possible answers), clean up the data via aggregation or rolling averages and plot a clear visual. Explain why you chose the approach you did. \n"
   ]
  },
  {
   "cell_type": "code",
   "execution_count": null,
   "id": "7f432e77",
   "metadata": {},
   "outputs": [],
   "source": []
  },
  {
   "cell_type": "markdown",
   "id": "be460b24",
   "metadata": {},
   "source": [
    "##### 7.\tPerform SARIMA on five cities, iterating through the cities programmatically. Explain your results.\n"
   ]
  },
  {
   "cell_type": "code",
   "execution_count": null,
   "id": "44b501d3",
   "metadata": {},
   "outputs": [],
   "source": []
  },
  {
   "cell_type": "markdown",
   "id": "41db9855",
   "metadata": {},
   "source": [
    "#### a.\tGraph the results\n"
   ]
  },
  {
   "cell_type": "code",
   "execution_count": null,
   "id": "070e8df9",
   "metadata": {},
   "outputs": [],
   "source": []
  },
  {
   "cell_type": "markdown",
   "id": "8ba9ff09",
   "metadata": {},
   "source": [
    "##### Bonus:  \n",
    "What do GARCH and ARCH Stand for? Break down and explain each piece in the names. Explain the difference between the two. Create a GARCH and ARCH model on the same 5 cities from question 6. Explain and graph the results.\n"
   ]
  },
  {
   "cell_type": "code",
   "execution_count": null,
   "id": "cfd3c213",
   "metadata": {},
   "outputs": [],
   "source": []
  }
 ],
 "metadata": {
  "kernelspec": {
   "display_name": "Python 3 (ipykernel)",
   "language": "python",
   "name": "python3"
  },
  "language_info": {
   "codemirror_mode": {
    "name": "ipython",
    "version": 3
   },
   "file_extension": ".py",
   "mimetype": "text/x-python",
   "name": "python",
   "nbconvert_exporter": "python",
   "pygments_lexer": "ipython3",
   "version": "3.9.7"
  }
 },
 "nbformat": 4,
 "nbformat_minor": 5
}
